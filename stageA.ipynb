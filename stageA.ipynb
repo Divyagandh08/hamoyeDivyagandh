{
 "cells": [
  {
   "cell_type": "code",
   "execution_count": 44,
   "id": "81f9707d",
   "metadata": {},
   "outputs": [
    {
     "name": "stdout",
     "output_type": "stream",
     "text": [
      "49\n",
      "Total number of missing data in 2014: 1589\n",
      "Percentage of missing data in 2014: 2.6073544131401474\n",
      "Mean for the year 2017:\n",
      "140.9177648602722\n",
      "Standard Deviation for the year 2017:\n",
      "1671.8623590572788\n",
      "Area with the highest sum in 2017: Nigeria\n",
      "Area with the highest sum in 2017: Guinea-Bissau\n",
      "Total sum of Processing in 2017: 292836.0\n"
     ]
    }
   ],
   "source": [
    "import pandas as pd\n",
    "import math\n",
    "df = pd.read_csv('FoodBalanceSheets_E_Africa_NOFLAG.csv', encoding = 'latin-1')\n",
    "print(len(pd.unique(df['Area'])))\n",
    "df['Y2014'].isna()/len(df.isna())\n",
    "missing_count = df['Y2014'].isnull().sum()\n",
    "total_count = df['Y2014'].shape[0]\n",
    "percentage_missing = (missing_count / total_count) * 100\n",
    "print(\"Total number of missing data in 2014:\", missing_count)\n",
    "print(\"Percentage of missing data in 2014:\", percentage_missing)\n",
    "df_Y2017 = df['Y2017']\n",
    "mean_2017 = df_Y2017.mean()\n",
    "std_2017 = df_Y2017.std()\n",
    "print(\"Mean for the year 2017:\")\n",
    "print(mean_2017)\n",
    "print(\"Standard Deviation for the year 2017:\")\n",
    "print(std_2017)\n",
    "selected_columns = ['Y2017', 'Area']\n",
    "df_selected = df[selected_columns]\n",
    "grouped = df_selected.groupby('Area')['Y2017'].sum()\n",
    "area_highest_sum = grouped.idxmax()\n",
    "print(\"Area with the highest sum in 2017:\",area_highest_sum)\n",
    "seventh_lowest_sum = grouped.nsmallest(7).iloc[-1]\n",
    "area_seventh_lowest_sum = grouped[grouped == seventh_lowest_sum].index[0]\n",
    "print(\"Area with the highest sum in 2017:\", area_seventh_lowest_sum)\n",
    "grouped = df.groupby('Element')['Y2017'].sum()\n",
    "sum_processing_2017 = grouped['Processing']\n",
    "print(\"Total sum of Processing in 2017:\", sum_processing_2017)"
   ]
  }
 ],
 "metadata": {
  "kernelspec": {
   "display_name": "Python 3 (ipykernel)",
   "language": "python",
   "name": "python3"
  },
  "language_info": {
   "codemirror_mode": {
    "name": "ipython",
    "version": 3
   },
   "file_extension": ".py",
   "mimetype": "text/x-python",
   "name": "python",
   "nbconvert_exporter": "python",
   "pygments_lexer": "ipython3",
   "version": "3.10.9"
  }
 },
 "nbformat": 4,
 "nbformat_minor": 5
}
